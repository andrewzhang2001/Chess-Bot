{
 "cells": [
  {
   "cell_type": "code",
   "execution_count": 62,
   "metadata": {},
   "outputs": [
    {
     "name": "stdout",
     "output_type": "stream",
     "text": [
      "Requirement already satisfied: tensorflow in c:\\users\\ruihao\\anaconda3\\lib\\site-packages (2.2.0)\n",
      "Requirement already satisfied: tensorboard<2.3.0,>=2.2.0 in c:\\users\\ruihao\\anaconda3\\lib\\site-packages (from tensorflow) (2.2.2)\n",
      "Requirement already satisfied: google-pasta>=0.1.8 in c:\\users\\ruihao\\anaconda3\\lib\\site-packages (from tensorflow) (0.2.0)\n",
      "Requirement already satisfied: absl-py>=0.7.0 in c:\\users\\ruihao\\anaconda3\\lib\\site-packages (from tensorflow) (0.9.0)\n",
      "Requirement already satisfied: h5py<2.11.0,>=2.10.0 in c:\\users\\ruihao\\anaconda3\\lib\\site-packages (from tensorflow) (2.10.0)\n",
      "Requirement already satisfied: protobuf>=3.8.0 in c:\\users\\ruihao\\anaconda3\\lib\\site-packages (from tensorflow) (3.12.2)\n",
      "Requirement already satisfied: wrapt>=1.11.1 in c:\\users\\ruihao\\anaconda3\\lib\\site-packages (from tensorflow) (1.11.2)\n",
      "Requirement already satisfied: numpy<2.0,>=1.16.0 in c:\\users\\ruihao\\anaconda3\\lib\\site-packages (from tensorflow) (1.16.4)\n",
      "Requirement already satisfied: grpcio>=1.8.6 in c:\\users\\ruihao\\anaconda3\\lib\\site-packages (from tensorflow) (1.30.0)\n",
      "Requirement already satisfied: wheel>=0.26; python_version >= \"3\" in c:\\users\\ruihao\\anaconda3\\lib\\site-packages (from tensorflow) (0.33.4)\n",
      "Requirement already satisfied: keras-preprocessing>=1.1.0 in c:\\users\\ruihao\\anaconda3\\lib\\site-packages (from tensorflow) (1.1.2)\n",
      "Requirement already satisfied: six>=1.12.0 in c:\\users\\ruihao\\anaconda3\\lib\\site-packages (from tensorflow) (1.12.0)\n",
      "Requirement already satisfied: gast==0.3.3 in c:\\users\\ruihao\\anaconda3\\lib\\site-packages (from tensorflow) (0.3.3)\n",
      "Requirement already satisfied: opt-einsum>=2.3.2 in c:\\users\\ruihao\\anaconda3\\lib\\site-packages (from tensorflow) (3.2.1)\n",
      "Requirement already satisfied: tensorflow-estimator<2.3.0,>=2.2.0 in c:\\users\\ruihao\\anaconda3\\lib\\site-packages (from tensorflow) (2.2.0)\n",
      "Requirement already satisfied: termcolor>=1.1.0 in c:\\users\\ruihao\\anaconda3\\lib\\site-packages (from tensorflow) (1.1.0)\n",
      "Requirement already satisfied: scipy==1.4.1; python_version >= \"3\" in c:\\users\\ruihao\\anaconda3\\lib\\site-packages (from tensorflow) (1.4.1)\n",
      "Requirement already satisfied: astunparse==1.6.3 in c:\\users\\ruihao\\anaconda3\\lib\\site-packages (from tensorflow) (1.6.3)\n",
      "Requirement already satisfied: google-auth-oauthlib<0.5,>=0.4.1 in c:\\users\\ruihao\\anaconda3\\lib\\site-packages (from tensorboard<2.3.0,>=2.2.0->tensorflow) (0.4.1)\n",
      "Requirement already satisfied: werkzeug>=0.11.15 in c:\\users\\ruihao\\anaconda3\\lib\\site-packages (from tensorboard<2.3.0,>=2.2.0->tensorflow) (0.15.4)\n",
      "Requirement already satisfied: requests<3,>=2.21.0 in c:\\users\\ruihao\\anaconda3\\lib\\site-packages (from tensorboard<2.3.0,>=2.2.0->tensorflow) (2.22.0)\n",
      "Requirement already satisfied: tensorboard-plugin-wit>=1.6.0 in c:\\users\\ruihao\\anaconda3\\lib\\site-packages (from tensorboard<2.3.0,>=2.2.0->tensorflow) (1.7.0)\n",
      "Requirement already satisfied: setuptools>=41.0.0 in c:\\users\\ruihao\\anaconda3\\lib\\site-packages (from tensorboard<2.3.0,>=2.2.0->tensorflow) (41.0.1)\n",
      "Requirement already satisfied: markdown>=2.6.8 in c:\\users\\ruihao\\anaconda3\\lib\\site-packages (from tensorboard<2.3.0,>=2.2.0->tensorflow) (3.2.2)\n",
      "Requirement already satisfied: google-auth<2,>=1.6.3 in c:\\users\\ruihao\\anaconda3\\lib\\site-packages (from tensorboard<2.3.0,>=2.2.0->tensorflow) (1.18.0)\n",
      "Requirement already satisfied: requests-oauthlib>=0.7.0 in c:\\users\\ruihao\\anaconda3\\lib\\site-packages (from google-auth-oauthlib<0.5,>=0.4.1->tensorboard<2.3.0,>=2.2.0->tensorflow) (1.3.0)\n",
      "Requirement already satisfied: certifi>=2017.4.17 in c:\\users\\ruihao\\anaconda3\\lib\\site-packages (from requests<3,>=2.21.0->tensorboard<2.3.0,>=2.2.0->tensorflow) (2019.6.16)\n",
      "Requirement already satisfied: chardet<3.1.0,>=3.0.2 in c:\\users\\ruihao\\anaconda3\\lib\\site-packages (from requests<3,>=2.21.0->tensorboard<2.3.0,>=2.2.0->tensorflow) (3.0.4)\n",
      "Requirement already satisfied: urllib3!=1.25.0,!=1.25.1,<1.26,>=1.21.1 in c:\\users\\ruihao\\anaconda3\\lib\\site-packages (from requests<3,>=2.21.0->tensorboard<2.3.0,>=2.2.0->tensorflow) (1.24.2)\n",
      "Requirement already satisfied: idna<2.9,>=2.5 in c:\\users\\ruihao\\anaconda3\\lib\\site-packages (from requests<3,>=2.21.0->tensorboard<2.3.0,>=2.2.0->tensorflow) (2.8)\n",
      "Requirement already satisfied: importlib-metadata; python_version < \"3.8\" in c:\\users\\ruihao\\anaconda3\\lib\\site-packages (from markdown>=2.6.8->tensorboard<2.3.0,>=2.2.0->tensorflow) (0.17)\n",
      "Requirement already satisfied: rsa<5,>=3.1.4; python_version >= \"3\" in c:\\users\\ruihao\\anaconda3\\lib\\site-packages (from google-auth<2,>=1.6.3->tensorboard<2.3.0,>=2.2.0->tensorflow) (4.6)\n",
      "Requirement already satisfied: pyasn1-modules>=0.2.1 in c:\\users\\ruihao\\anaconda3\\lib\\site-packages (from google-auth<2,>=1.6.3->tensorboard<2.3.0,>=2.2.0->tensorflow) (0.2.8)\n",
      "Requirement already satisfied: cachetools<5.0,>=2.0.0 in c:\\users\\ruihao\\anaconda3\\lib\\site-packages (from google-auth<2,>=1.6.3->tensorboard<2.3.0,>=2.2.0->tensorflow) (4.1.1)\n",
      "Requirement already satisfied: oauthlib>=3.0.0 in c:\\users\\ruihao\\anaconda3\\lib\\site-packages (from requests-oauthlib>=0.7.0->google-auth-oauthlib<0.5,>=0.4.1->tensorboard<2.3.0,>=2.2.0->tensorflow) (3.1.0)\n",
      "Requirement already satisfied: zipp>=0.5 in c:\\users\\ruihao\\anaconda3\\lib\\site-packages (from importlib-metadata; python_version < \"3.8\"->markdown>=2.6.8->tensorboard<2.3.0,>=2.2.0->tensorflow) (0.5.1)\n",
      "Requirement already satisfied: pyasn1>=0.1.3 in c:\\users\\ruihao\\anaconda3\\lib\\site-packages (from rsa<5,>=3.1.4; python_version >= \"3\"->google-auth<2,>=1.6.3->tensorboard<2.3.0,>=2.2.0->tensorflow) (0.4.8)\n"
     ]
    }
   ],
   "source": [
    "!pip install tensorflow\n",
    "import tensorflow as tf\n",
    "import numpy as np\n",
    "import pandas as pd\n"
   ]
  },
  {
   "cell_type": "code",
   "execution_count": 63,
   "metadata": {},
   "outputs": [
    {
     "name": "stdout",
     "output_type": "stream",
     "text": [
      "Requirement already satisfied: python-chess in c:\\users\\ruihao\\anaconda3\\lib\\site-packages (0.31.2)\n"
     ]
    }
   ],
   "source": [
    "!pip install python-chess"
   ]
  },
  {
   "cell_type": "code",
   "execution_count": 64,
   "metadata": {},
   "outputs": [],
   "source": [
    "import chess\n",
    "from chess import pgn"
   ]
  },
  {
   "cell_type": "code",
   "execution_count": 65,
   "metadata": {},
   "outputs": [],
   "source": [
    "from chess import pgn\n",
    "\n",
    "def games_in(file):\n",
    "    \"\"\"\n",
    "    Returns the list of games from a pgn file\n",
    "    \"\"\"\n",
    "    games = open(file)\n",
    "    game = pgn.read_game(games)\n",
    "    games_list = []\n",
    "    while game is not None:\n",
    "        games_list.append(game)\n",
    "        game = pgn.read_game(games)\n",
    "    return games_list"
   ]
  },
  {
   "cell_type": "code",
   "execution_count": 66,
   "metadata": {},
   "outputs": [],
   "source": [
    "from os import listdir\n",
    "from os.path import isfile, join\n",
    "\n",
    "def files_in(path):\n",
    "    return [join(path,f) for f in listdir(path) if isfile(join(path, f))]"
   ]
  },
  {
   "cell_type": "code",
   "execution_count": 67,
   "metadata": {},
   "outputs": [],
   "source": [
    "PIECES = chess.PIECE_TYPES"
   ]
  },
  {
   "cell_type": "code",
   "execution_count": 68,
   "metadata": {},
   "outputs": [],
   "source": [
    "curpath = \"pgn_games/Lichess Elite Database\""
   ]
  },
  {
   "cell_type": "code",
   "execution_count": 69,
   "metadata": {},
   "outputs": [],
   "source": [
    "files = files_in(curpath)[: 20]"
   ]
  },
  {
   "cell_type": "code",
   "execution_count": 70,
   "metadata": {},
   "outputs": [],
   "source": [
    "gameslist = []\n",
    "for file in files:\n",
    "    gameslist.extend(games_in(file))"
   ]
  },
  {
   "cell_type": "code",
   "execution_count": 93,
   "metadata": {},
   "outputs": [],
   "source": [
    "columns = ['wMate', 'bMate', 'draw', 'turn', \n",
    "           'wP','wN','wB','wR','wQ','wK','bP','bN','bB','bR','bQ','bK',\n",
    "           'hwP','hwN','hwB','hwR','hwQ','hwK','hbP','hbN','hbB','hbR','hbQ','hbK',\n",
    "          'EVAL']\n",
    "\n",
    "def features(board):\n",
    "    \"\"\"\n",
    "    Returns a list of numerical values for features of a board. Subject to change.\n",
    "    [ischeckmate[W/B], isDraw, turn, material[PNBRKQ][W/B] ,hangingMaterial[W/b]]\n",
    "    \"\"\"\n",
    "    featuresList = []\n",
    "    featuresList.extend(colorList(isCheckmate, board))\n",
    "    featuresList.extend([isDraw(board)])\n",
    "    featuresList.extend([currentTurn(board)])\n",
    "    featuresList.extend(pieceColorList(numPieceOfColor, board))\n",
    "    featuresList.extend(pieceColorList(numHangingPieceOfColor, board))\n",
    "    return featuresList\n",
    "    \n",
    "def pieceColorList(fn, board):\n",
    "    \"\"\"\n",
    "    Returns a list containing FN called on every piece type and color combo\n",
    "    \"\"\"\n",
    "    a = [fn(board, piece, chess.WHITE) for piece in PIECES]\n",
    "    a.extend([fn(board, piece, chess.BLACK)for piece in PIECES])\n",
    "    return a\n",
    "    \n",
    "def colorList(fn, board):\n",
    "    \"\"\"\n",
    "    Returns a list containing FN called on both color\n",
    "    \"\"\"\n",
    "    a = [fn(board, chess.WHITE)]\n",
    "    a.extend([fn(board, chess.BLACK)])\n",
    "    return a\n",
    "    \n",
    "def isCheckmate(board, color):\n",
    "    \"\"\"\n",
    "    Returns 1 if the current color is checkmating the other\n",
    "    \"\"\"\n",
    "    if board.is_checkmate() and board.turn == (not color):\n",
    "        return 1\n",
    "    return 0\n",
    "\n",
    "def isDraw(board):\n",
    "    \"\"\"\n",
    "    Returns 1 iff the current position is a draw\n",
    "    \"\"\"\n",
    "    if board.result() == '1/2-1/2': #might have to input some * in result\n",
    "        return 1\n",
    "    return 0\n",
    "\n",
    "def currentTurn(board):\n",
    "    if board.turn == chess.WHITE:\n",
    "        return 1\n",
    "    return 0\n",
    "\n",
    "def numPieceOfColor(board, piece, color):\n",
    "    \"\"\"\n",
    "    Returns the number of pieces of specific color\n",
    "    \"\"\"\n",
    "    return len(board.pieces(piece, color))\n",
    "\n",
    "def numHangingPieceOfColor(board, piece, color): \n",
    "    #Update function to still count pieces as hanging if num attacker pawns > defender pawns, repeat for each piece...\n",
    "    \"\"\"\n",
    "    Returns the number of hanging pieces of a specific color \n",
    "    \"\"\"\n",
    "    our_pieces = board.pieces(piece, color)\n",
    "    opp_color = not color\n",
    "    hanging_pieces = 0\n",
    "    for sq in our_pieces:\n",
    "        unpinned_attackers_on_sq = sum([not board.is_pinned(not color, opp_att) for opp_att in board.attackers(opp_color, sq)])\n",
    "        unpinned_defenders_on_sq = sum([not board.is_pinned(color, opp_att) for opp_att in board.attackers(color, sq)]) \n",
    "        if unpinned_attackers_on_sq > unpinned_defenders_on_sq:\n",
    "            hanging_pieces += 1\n",
    "    return hanging_pieces\n",
    "        "
   ]
  },
  {
   "cell_type": "code",
   "execution_count": 94,
   "metadata": {},
   "outputs": [
    {
     "name": "stdout",
     "output_type": "stream",
     "text": [
      "r . b q k b . r\n",
      "p p p p . Q p p\n",
      ". . n . . n . .\n",
      ". . . . p . . .\n",
      ". . B . P . . .\n",
      ". . . . . . . .\n",
      "P P P P . P P P\n",
      "R N B . K . N R\n",
      "[1, 0, 0, 0, 8, 2, 2, 2, 1, 1, 7, 2, 2, 2, 1, 1, 1, 0, 0, 0, 0, 0, 0, 0, 0, 0, 0, 0]\n"
     ]
    }
   ],
   "source": [
    "testBoard = gameslist[0].board()\n",
    "testBoard.push(chess.Move.from_uci('e2e4'))\n",
    "testBoard.push(chess.Move.from_uci('e7e5'))\n",
    "testBoard.push(chess.Move.from_uci('d1h5'))\n",
    "testBoard.push(chess.Move.from_uci('g8f6'))\n",
    "testBoard.push(chess.Move.from_uci('f1c4'))\n",
    "testBoard.push(chess.Move.from_uci('b8c6'))\n",
    "testBoard.push(chess.Move.from_uci('h5f7'))\n",
    "print(testBoard)\n",
    "\n",
    "print(features(testBoard))"
   ]
  },
  {
   "cell_type": "code",
   "execution_count": 95,
   "metadata": {},
   "outputs": [],
   "source": [
    "def length_of_game(game):\n",
    "    return sum(1 for e in game.mainline_moves())"
   ]
  },
  {
   "cell_type": "code",
   "execution_count": 96,
   "metadata": {},
   "outputs": [],
   "source": [
    "def add_game_to_dataset(array, game):\n",
    "    board = game.board()\n",
    "    length_game = length_of_game(game)\n",
    "    current_move = 0\n",
    "    result = game.headers[\"Result\"]\n",
    "    multiplier = 0\n",
    "    if result == '1-0':\n",
    "        multiplier = 1\n",
    "    elif result == '0-1':\n",
    "        multiplier = -1\n",
    "    for move in game.mainline_moves():\n",
    "        current_move += 1\n",
    "        board.push(move)\n",
    "        current_features = features(board)\n",
    "        current_features.append(multiplier * current_move / length_game)\n",
    "        array.append(current_features)"
   ]
  },
  {
   "cell_type": "code",
   "execution_count": 142,
   "metadata": {},
   "outputs": [
    {
     "name": "stdout",
     "output_type": "stream",
     "text": [
      "8360\n",
      "3941\n"
     ]
    }
   ],
   "source": [
    "#IMPORT THE DATASET\n",
    "\n",
    "dataset = []\n",
    "modelgameslist = gameslist[:100]\n",
    "for game in modelgameslist:\n",
    "    add_game_to_dataset(dataset, game)\n",
    "print(len(dataset))\n",
    "print(sum([1 for i in dataset if i[28] > 0]))\n",
    "data = pd.DataFrame(dataset, columns=columns)\n",
    "x = data.iloc[:,:-1].values\n",
    "y = data.iloc[:,-1].values\n"
   ]
  },
  {
   "cell_type": "code",
   "execution_count": 98,
   "metadata": {},
   "outputs": [],
   "source": [
    "#SPLIT TRAIN AND TEST SET\n",
    "from sklearn.model_selection import train_test_split\n",
    "x_train, x_test, y_train, y_test = train_test_split(x, y, test_size = 0.2, random_state = 0)"
   ]
  },
  {
   "cell_type": "code",
   "execution_count": 100,
   "metadata": {},
   "outputs": [],
   "source": [
    "#FEATURE SCALING\n",
    "from sklearn.preprocessing import StandardScaler\n",
    "sc = StandardScaler()\n",
    "x_train = sc.fit_transform(x_train)\n",
    "x_test = sc.transform(x_test)"
   ]
  },
  {
   "cell_type": "code",
   "execution_count": 132,
   "metadata": {},
   "outputs": [],
   "source": [
    "#BUILDING THE ANN\n",
    "ann = tf.keras.models.Sequential()\n",
    "ann.add(tf.keras.layers.Dense(units=28, activation='relu'))\n",
    "ann.add(tf.keras.layers.Dense(units=28, activation='relu'))\n",
    "ann.add(tf.keras.layers.Dense(units=1, activation='linear'))"
   ]
  },
  {
   "cell_type": "code",
   "execution_count": 133,
   "metadata": {},
   "outputs": [
    {
     "name": "stdout",
     "output_type": "stream",
     "text": [
      "Epoch 1/100\n",
      "209/209 [==============================] - 0s 759us/step - loss: 0.0642\n",
      "Epoch 2/100\n",
      "209/209 [==============================] - 0s 744us/step - loss: 0.0484\n",
      "Epoch 3/100\n",
      "209/209 [==============================] - 0s 701us/step - loss: 0.0443\n",
      "Epoch 4/100\n",
      "209/209 [==============================] - 0s 701us/step - loss: 0.0418\n",
      "Epoch 5/100\n",
      "209/209 [==============================] - 0s 740us/step - loss: 0.0403\n",
      "Epoch 6/100\n",
      "209/209 [==============================] - 0s 759us/step - loss: 0.0392\n",
      "Epoch 7/100\n",
      "209/209 [==============================] - 0s 735us/step - loss: 0.0378\n",
      "Epoch 8/100\n",
      "209/209 [==============================] - 0s 711us/step - loss: 0.0371\n",
      "Epoch 9/100\n",
      "209/209 [==============================] - 0s 725us/step - loss: 0.0364\n",
      "Epoch 10/100\n",
      "209/209 [==============================] - 0s 744us/step - loss: 0.0355\n",
      "Epoch 11/100\n",
      "209/209 [==============================] - 0s 721us/step - loss: 0.0350\n",
      "Epoch 12/100\n",
      "209/209 [==============================] - 0s 721us/step - loss: 0.0341\n",
      "Epoch 13/100\n",
      "209/209 [==============================] - 0s 725us/step - loss: 0.0338\n",
      "Epoch 14/100\n",
      "209/209 [==============================] - 0s 711us/step - loss: 0.0336\n",
      "Epoch 15/100\n",
      "209/209 [==============================] - 0s 725us/step - loss: 0.0327\n",
      "Epoch 16/100\n",
      "209/209 [==============================] - 0s 735us/step - loss: 0.0321\n",
      "Epoch 17/100\n",
      "209/209 [==============================] - 0s 816us/step - loss: 0.0311\n",
      "Epoch 18/100\n",
      "209/209 [==============================] - 0s 759us/step - loss: 0.0306\n",
      "Epoch 19/100\n",
      "209/209 [==============================] - 0s 768us/step - loss: 0.0303\n",
      "Epoch 20/100\n",
      "209/209 [==============================] - 0s 706us/step - loss: 0.0303\n",
      "Epoch 21/100\n",
      "209/209 [==============================] - 0s 740us/step - loss: 0.0296\n",
      "Epoch 22/100\n",
      "209/209 [==============================] - 0s 721us/step - loss: 0.0296\n",
      "Epoch 23/100\n",
      "209/209 [==============================] - 0s 721us/step - loss: 0.0288\n",
      "Epoch 24/100\n",
      "209/209 [==============================] - 0s 716us/step - loss: 0.0289\n",
      "Epoch 25/100\n",
      "209/209 [==============================] - 0s 716us/step - loss: 0.0277\n",
      "Epoch 26/100\n",
      "209/209 [==============================] - 0s 725us/step - loss: 0.0260\n",
      "Epoch 27/100\n",
      "209/209 [==============================] - 0s 749us/step - loss: 0.0252\n",
      "Epoch 28/100\n",
      "209/209 [==============================] - 0s 749us/step - loss: 0.0245\n",
      "Epoch 29/100\n",
      "209/209 [==============================] - 0s 740us/step - loss: 0.0239\n",
      "Epoch 30/100\n",
      "209/209 [==============================] - 0s 706us/step - loss: 0.0232\n",
      "Epoch 31/100\n",
      "209/209 [==============================] - 0s 754us/step - loss: 0.0229\n",
      "Epoch 32/100\n",
      "209/209 [==============================] - 0s 716us/step - loss: 0.0225\n",
      "Epoch 33/100\n",
      "209/209 [==============================] - 0s 716us/step - loss: 0.0222\n",
      "Epoch 34/100\n",
      "209/209 [==============================] - 0s 740us/step - loss: 0.0219\n",
      "Epoch 35/100\n",
      "209/209 [==============================] - 0s 716us/step - loss: 0.0214\n",
      "Epoch 36/100\n",
      "209/209 [==============================] - 0s 711us/step - loss: 0.0215\n",
      "Epoch 37/100\n",
      "209/209 [==============================] - 0s 711us/step - loss: 0.0216\n",
      "Epoch 38/100\n",
      "209/209 [==============================] - 0s 711us/step - loss: 0.0214\n",
      "Epoch 39/100\n",
      "209/209 [==============================] - 0s 701us/step - loss: 0.0210\n",
      "Epoch 40/100\n",
      "209/209 [==============================] - 0s 725us/step - loss: 0.0207\n",
      "Epoch 41/100\n",
      "209/209 [==============================] - 0s 711us/step - loss: 0.0208\n",
      "Epoch 42/100\n",
      "209/209 [==============================] - 0s 721us/step - loss: 0.0210\n",
      "Epoch 43/100\n",
      "209/209 [==============================] - 0s 726us/step - loss: 0.0210\n",
      "Epoch 44/100\n",
      "209/209 [==============================] - 0s 735us/step - loss: 0.0203\n",
      "Epoch 45/100\n",
      "209/209 [==============================] - 0s 706us/step - loss: 0.0200\n",
      "Epoch 46/100\n",
      "209/209 [==============================] - 0s 692us/step - loss: 0.0205\n",
      "Epoch 47/100\n",
      "209/209 [==============================] - 0s 721us/step - loss: 0.0202\n",
      "Epoch 48/100\n",
      "209/209 [==============================] - 0s 993us/step - loss: 0.0198\n",
      "Epoch 49/100\n",
      "209/209 [==============================] - 0s 687us/step - loss: 0.0199\n",
      "Epoch 50/100\n",
      "209/209 [==============================] - 0s 659us/step - loss: 0.0198\n",
      "Epoch 51/100\n",
      "209/209 [==============================] - 0s 725us/step - loss: 0.0196\n",
      "Epoch 52/100\n",
      "209/209 [==============================] - 0s 725us/step - loss: 0.0196\n",
      "Epoch 53/100\n",
      "209/209 [==============================] - 0s 792us/step - loss: 0.0194\n",
      "Epoch 54/100\n",
      "209/209 [==============================] - 0s 768us/step - loss: 0.0191\n",
      "Epoch 55/100\n",
      "209/209 [==============================] - 0s 744us/step - loss: 0.0194\n",
      "Epoch 56/100\n",
      "209/209 [==============================] - 0s 730us/step - loss: 0.0191\n",
      "Epoch 57/100\n",
      "209/209 [==============================] - 0s 725us/step - loss: 0.0192\n",
      "Epoch 58/100\n",
      "209/209 [==============================] - 0s 735us/step - loss: 0.0188\n",
      "Epoch 59/100\n",
      "209/209 [==============================] - 0s 735us/step - loss: 0.0189\n",
      "Epoch 60/100\n",
      "209/209 [==============================] - 0s 787us/step - loss: 0.0189\n",
      "Epoch 61/100\n",
      "209/209 [==============================] - 0s 802us/step - loss: 0.0188\n",
      "Epoch 62/100\n",
      "209/209 [==============================] - 0s 797us/step - loss: 0.0186\n",
      "Epoch 63/100\n",
      "209/209 [==============================] - 0s 711us/step - loss: 0.0185\n",
      "Epoch 64/100\n",
      "209/209 [==============================] - 0s 735us/step - loss: 0.0186\n",
      "Epoch 65/100\n",
      "209/209 [==============================] - 0s 945us/step - loss: 0.0186\n",
      "Epoch 66/100\n",
      "209/209 [==============================] - 0s 792us/step - loss: 0.0182\n",
      "Epoch 67/100\n",
      "209/209 [==============================] - 0s 787us/step - loss: 0.0184\n",
      "Epoch 68/100\n",
      "209/209 [==============================] - 0s 764us/step - loss: 0.0182\n",
      "Epoch 69/100\n",
      "209/209 [==============================] - 0s 711us/step - loss: 0.0182\n",
      "Epoch 70/100\n",
      "209/209 [==============================] - 0s 744us/step - loss: 0.0182\n",
      "Epoch 71/100\n",
      "209/209 [==============================] - 0s 773us/step - loss: 0.0180\n",
      "Epoch 72/100\n",
      "209/209 [==============================] - 0s 806us/step - loss: 0.0178\n",
      "Epoch 73/100\n",
      "209/209 [==============================] - 0s 754us/step - loss: 0.0181\n",
      "Epoch 74/100\n",
      "209/209 [==============================] - 0s 706us/step - loss: 0.0177\n",
      "Epoch 75/100\n",
      "209/209 [==============================] - 0s 792us/step - loss: 0.0178\n",
      "Epoch 76/100\n",
      "209/209 [==============================] - 0s 821us/step - loss: 0.0174\n",
      "Epoch 77/100\n",
      "209/209 [==============================] - 0s 740us/step - loss: 0.0175\n",
      "Epoch 78/100\n",
      "209/209 [==============================] - 0s 802us/step - loss: 0.0176\n",
      "Epoch 79/100\n",
      "209/209 [==============================] - 0s 735us/step - loss: 0.0173\n",
      "Epoch 80/100\n",
      "209/209 [==============================] - 0s 744us/step - loss: 0.0174\n",
      "Epoch 81/100\n",
      "209/209 [==============================] - 0s 773us/step - loss: 0.0176\n",
      "Epoch 82/100\n",
      "209/209 [==============================] - 0s 754us/step - loss: 0.0171\n",
      "Epoch 83/100\n",
      "209/209 [==============================] - 0s 754us/step - loss: 0.0173\n",
      "Epoch 84/100\n",
      "209/209 [==============================] - 0s 744us/step - loss: 0.0172\n",
      "Epoch 85/100\n",
      "209/209 [==============================] - 0s 811us/step - loss: 0.0171\n",
      "Epoch 86/100\n",
      "209/209 [==============================] - 0s 845us/step - loss: 0.0170\n",
      "Epoch 87/100\n",
      "209/209 [==============================] - 0s 773us/step - loss: 0.0168\n",
      "Epoch 88/100\n",
      "209/209 [==============================] - 0s 749us/step - loss: 0.0169\n",
      "Epoch 89/100\n",
      "209/209 [==============================] - 0s 787us/step - loss: 0.0170\n",
      "Epoch 90/100\n",
      "209/209 [==============================] - 0s 768us/step - loss: 0.0168\n",
      "Epoch 91/100\n",
      "209/209 [==============================] - 0s 778us/step - loss: 0.0170\n",
      "Epoch 92/100\n",
      "209/209 [==============================] - 0s 806us/step - loss: 0.0173\n",
      "Epoch 93/100\n",
      "209/209 [==============================] - 0s 744us/step - loss: 0.0170\n",
      "Epoch 94/100\n",
      "209/209 [==============================] - 0s 759us/step - loss: 0.0170\n",
      "Epoch 95/100\n",
      "209/209 [==============================] - 0s 897us/step - loss: 0.0169\n",
      "Epoch 96/100\n",
      "209/209 [==============================] - 0s 768us/step - loss: 0.0168\n",
      "Epoch 97/100\n"
     ]
    },
    {
     "name": "stdout",
     "output_type": "stream",
     "text": [
      "209/209 [==============================] - 0s 740us/step - loss: 0.0167\n",
      "Epoch 98/100\n",
      "209/209 [==============================] - 0s 697us/step - loss: 0.0166\n",
      "Epoch 99/100\n",
      "209/209 [==============================] - 0s 687us/step - loss: 0.0166\n",
      "Epoch 100/100\n",
      "209/209 [==============================] - 0s 764us/step - loss: 0.0163\n"
     ]
    },
    {
     "data": {
      "text/plain": [
       "<tensorflow.python.keras.callbacks.History at 0x25f39eedeb8>"
      ]
     },
     "execution_count": 133,
     "metadata": {},
     "output_type": "execute_result"
    }
   ],
   "source": [
    "#TRAINING THE ANN\n",
    "ann.compile(optimizer='adam', loss='mean_squared_logarithmic_error')\n",
    "ann.fit(x_train, y_train, batch_size=32, epochs=100)"
   ]
  },
  {
   "cell_type": "code",
   "execution_count": 139,
   "metadata": {},
   "outputs": [
    {
     "name": "stdout",
     "output_type": "stream",
     "text": [
      "[[0, 0, 0, 0, 8, 2, 2, 2, 1, 1, 8, 2, 2, 2, 1, 1, 1, 0, 0, 0, 1, 0, 2, 0, 0, 0, 0, 0]]\n"
     ]
    },
    {
     "data": {
      "text/plain": [
       "array([[-1.0067983]], dtype=float32)"
      ]
     },
     "execution_count": 139,
     "metadata": {},
     "output_type": "execute_result"
    }
   ],
   "source": [
    "testBoard = gameslist[0].board()\n",
    "testBoard.push(chess.Move.from_uci('e2e4'))\n",
    "testBoard.push(chess.Move.from_uci('e7e5'))\n",
    "testBoard.push(chess.Move.from_uci('d1h5'))\n",
    "testBoard.push(chess.Move.from_uci('g8f6'))\n",
    "testBoard.push(chess.Move.from_uci('f1c4'))\n",
    "testarray = [features(testBoard)]\n",
    "sc.transform(testarray)\n",
    "print(testarray)\n",
    "ann.predict(testarray)\n"
   ]
  },
  {
   "cell_type": "code",
   "execution_count": null,
   "metadata": {},
   "outputs": [],
   "source": []
  },
  {
   "cell_type": "code",
   "execution_count": null,
   "metadata": {},
   "outputs": [],
   "source": []
  }
 ],
 "metadata": {
  "kernelspec": {
   "display_name": "Python 3",
   "language": "python",
   "name": "python3"
  },
  "language_info": {
   "codemirror_mode": {
    "name": "ipython",
    "version": 3
   },
   "file_extension": ".py",
   "mimetype": "text/x-python",
   "name": "python",
   "nbconvert_exporter": "python",
   "pygments_lexer": "ipython3",
   "version": "3.7.3"
  }
 },
 "nbformat": 4,
 "nbformat_minor": 2
}
